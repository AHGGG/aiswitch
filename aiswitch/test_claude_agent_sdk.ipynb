{
 "cells": [
  {
   "cell_type": "code",
   "execution_count": null,
   "id": "f9f7509343a0415e",
   "metadata": {
    "jupyter": {
     "is_executing": true
    }
   },
   "outputs": [],
   "source": [
    "import nest_asyncio\n",
    "nest_asyncio.apply()"
   ]
  },
  {
   "cell_type": "code",
   "execution_count": null,
   "id": "9da88f36ed39a895",
   "metadata": {},
   "outputs": [],
   "source": [
    "# TODO: test is reinit ClaudeSDKClient needed after change ClientOptions"
   ]
  },
  {
   "cell_type": "code",
   "execution_count": null,
   "id": "9e18d354",
   "metadata": {},
   "outputs": [
    {
     "name": "stdout",
     "output_type": "stream",
     "text": [
      "type: <class 'claude_agent_sdk.types.SystemMessage'>\n",
      "to_dict: {'subtype': 'init', 'data': {'type': 'system', 'subtype': 'init', 'cwd': '/home/ahggg/desktop/github/side-project/aiswitch', 'session_id': '5827bcdd-ebf3-4a02-add8-8b5ba395281b', 'tools': ['Task', 'Bash', 'Glob', 'Grep', 'ExitPlanMode', 'Read', 'Edit', 'Write', 'NotebookEdit', 'WebFetch', 'TodoWrite', 'WebSearch', 'BashOutput', 'KillShell', 'SlashCommand'], 'mcp_servers': [], 'model': 'claude-sonnet-4-5-20250929', 'permissionMode': 'acceptEdits', 'slash_commands': ['compact', 'context', 'cost', 'init', 'output-style:new', 'pr-comments', 'release-notes', 'todos', 'review', 'security-review'], 'apiKeySource': 'none', 'output_style': 'default', 'agents': ['general-purpose', 'statusline-setup', 'output-style-setup'], 'uuid': '9c25f937-e7d9-45b1-92db-4055f87fb491'}}\n",
      "\n",
      "\n",
      "type: <class 'claude_agent_sdk.types.AssistantMessage'>\n",
      "to_dict: {'content': [{'text': '1 + 1 = 2'}], 'model': 'claude-sonnet-4-5-20250929', 'parent_tool_use_id': None}\n",
      "\n",
      "\n",
      "type: <class 'claude_agent_sdk.types.ResultMessage'>\n",
      "to_dict: {'subtype': 'success', 'duration_ms': 4740, 'duration_api_ms': 4198, 'is_error': False, 'num_turns': 1, 'session_id': '5827bcdd-ebf3-4a02-add8-8b5ba395281b', 'total_cost_usd': 0.0258093, 'usage': {'input_tokens': 4, 'cache_creation_input_tokens': 6404, 'cache_read_input_tokens': 5291, 'output_tokens': 13, 'server_tool_use': {'web_search_requests': 0}, 'service_tier': 'standard', 'cache_creation': {'ephemeral_1h_input_tokens': 0, 'ephemeral_5m_input_tokens': 6404}}, 'result': '1 + 1 = 2'}\n",
      "\n",
      "\n"
     ]
    }
   ],
   "source": [
    "import asyncio\n",
    "import json\n",
    "from claude_agent_sdk import Message, UserMessage, AssistantMessage, SystemMessage, ResultMessage\n",
    "from claude_agent_sdk import ContentBlock, TextBlock, ThinkingBlock, ToolUseBlock, ToolResultBlock\n",
    "from claude_agent_sdk import query, ClaudeAgentOptions\n",
    "from dataclasses import dataclass, asdict\n",
    "\n",
    "async def main():\n",
    "    options = ClaudeAgentOptions(\n",
    "        system_prompt=\"You are an expert Python developer\",\n",
    "        permission_mode='acceptEdits',\n",
    "        cwd=\"/home/ahggg/desktop/github/side-project/aiswitch\"\n",
    "    )\n",
    "\n",
    "    async for message in query(\n",
    "        prompt=\"1+1=?\",\n",
    "        options=options\n",
    "    ):\n",
    "        print(f\"type: {type(message)}\\nto_dict: {asdict(message)}\\n\\n\")\n",
    "\n",
    "\n",
    "await main()"
   ]
  },
  {
   "cell_type": "markdown",
   "id": "bbe6bdf1",
   "metadata": {},
   "source": [
    "### monitor progress"
   ]
  },
  {
   "cell_type": "code",
   "execution_count": 13,
   "id": "fa011a36",
   "metadata": {},
   "outputs": [
    {
     "name": "stdout",
     "output_type": "stream",
     "text": [
      "💭 Claude says: I'll create 5 Python files with different sorting algorithms....\n",
      "🔨 Creating: /home/ahggg/desktop/github/side-project/aiswitch/bubble_sort.py\n",
      "🔨 Creating: /home/ahggg/desktop/github/side-project/aiswitch/quick_sort.py\n",
      "🔨 Creating: /home/ahggg/desktop/github/side-project/aiswitch/merge_sort.py\n",
      "🔨 Creating: /home/ahggg/desktop/github/side-project/aiswitch/insertion_sort.py\n",
      "🔨 Creating: /home/ahggg/desktop/github/side-project/aiswitch/selection_sort.py\n",
      "💭 Claude says: Created 5 Python files with different sorting algorithms:\n",
      "\n",
      "1. **bubble_sort.py** - Bubble Sort (O(n²...\n",
      "\n",
      "🎯 Task completed!\n"
     ]
    }
   ],
   "source": [
    "from claude_agent_sdk import (\n",
    "    ClaudeSDKClient,\n",
    "    ClaudeAgentOptions,\n",
    "    AssistantMessage,\n",
    "    ToolUseBlock,\n",
    "    ToolResultBlock,\n",
    "    TextBlock\n",
    ")\n",
    "import asyncio\n",
    "\n",
    "async def monitor_progress():\n",
    "    options = ClaudeAgentOptions(\n",
    "        allowed_tools=[\"Write\", \"Bash\"],\n",
    "        permission_mode=\"acceptEdits\",\n",
    "        cwd=\"/home/ahggg/desktop/github/side-project/aiswitch\"\n",
    "    )\n",
    "    \n",
    "    async with ClaudeSDKClient(options=options) as client:\n",
    "        await client.query(\n",
    "            \"Create 5 Python files with different sorting algorithms\"\n",
    "        )\n",
    "        \n",
    "        # Monitor progress in real-time\n",
    "        files_created = []\n",
    "        async for message in client.receive_messages():\n",
    "            if isinstance(message, AssistantMessage):\n",
    "                for block in message.content:\n",
    "                    if isinstance(block, ToolUseBlock):\n",
    "                        if block.name == \"Write\":\n",
    "                            file_path = block.input.get(\"file_path\", \"\")\n",
    "                            print(f\"🔨 Creating: {file_path}\")\n",
    "                    elif isinstance(block, ToolResultBlock):\n",
    "                        print(f\"✅ Completed tool execution\")\n",
    "                    elif isinstance(block, TextBlock):\n",
    "                        print(f\"💭 Claude says: {block.text[:100]}...\")\n",
    "            \n",
    "            # Check if we've received the final result\n",
    "            if hasattr(message, 'subtype') and message.subtype in ['success', 'error']:\n",
    "                print(f\"\\n🎯 Task completed!\")\n",
    "                break\n",
    "\n",
    "await monitor_progress()"
   ]
  },
  {
   "cell_type": "markdown",
   "id": "58c738b3",
   "metadata": {},
   "source": [
    "### chat_history test"
   ]
  },
  {
   "cell_type": "code",
   "execution_count": 14,
   "id": "b6f33843",
   "metadata": {},
   "outputs": [
    {
     "name": "stdout",
     "output_type": "stream",
     "text": [
      "2\n"
     ]
    }
   ],
   "source": [
    "from claude_agent_sdk import ClaudeSDKClient, ClaudeAgentOptions, AssistantMessage, TextBlock\n",
    "import asyncio\n",
    "import base64\n",
    "\n",
    "async def streaming_analysis():\n",
    "    async def message_generator():\n",
    "        # First message\n",
    "        yield {\n",
    "            \"type\": \"user\",\n",
    "            \"message\": {\n",
    "                \"role\": \"user\",\n",
    "                \"content\": \"1+1=?\"\n",
    "            }\n",
    "        }\n",
    "\n",
    "        # Wait for conditions\n",
    "        await asyncio.sleep(2)\n",
    "\n",
    "        yield {\n",
    "            \"type\": \"user\",\n",
    "            \"message\": {\n",
    "                \"role\": \"user\",\n",
    "                \"content\": [\n",
    "                    {\n",
    "                        \"type\": \"text\",\n",
    "                        \"text\": \"刚刚我问了你什么?\"\n",
    "                    }\n",
    "                ]\n",
    "            }\n",
    "        }\n",
    "\n",
    "    # Use ClaudeSDKClient for streaming input\n",
    "    options = ClaudeAgentOptions(\n",
    "        max_turns=10,\n",
    "        allowed_tools=[\"Read\", \"Grep\"]\n",
    "    )\n",
    "\n",
    "    async with ClaudeSDKClient(options) as client:\n",
    "        # Send streaming input\n",
    "        await client.query(message_generator())\n",
    "\n",
    "        # Process responses\n",
    "        async for message in client.receive_response():\n",
    "            if isinstance(message, AssistantMessage):\n",
    "                for block in message.content:\n",
    "                    if isinstance(block, TextBlock):\n",
    "                        print(block.text)\n",
    "\n",
    "await streaming_analysis()"
   ]
  },
  {
   "cell_type": "markdown",
   "id": "1c07aa0a",
   "metadata": {},
   "source": [
    "### monitoring todo"
   ]
  },
  {
   "cell_type": "code",
   "execution_count": null,
   "id": "7cc1b0fa",
   "metadata": {},
   "outputs": [],
   "source": [
    "from claude_agent_sdk import query\n",
    "\n",
    "async for message in query(\n",
    "    prompt=\"Optimize my React app performance and track progress with todos\",\n",
    "    options={\"max_turns\": 15}\n",
    "):\n",
    "    # Todo updates are reflected in the message stream\n",
    "    if message.get(\"type\") == \"tool_use\" and message.get(\"name\") == \"TodoWrite\":\n",
    "        todos = message[\"input\"][\"todos\"]\n",
    "        \n",
    "        print(\"Todo Status Update:\")\n",
    "        for i, todo in enumerate(todos):\n",
    "            status = \"✅\" if todo[\"status\"] == \"completed\" else \\\n",
    "                    \"🔧\" if todo[\"status\"] == \"in_progress\" else \"❌\"\n",
    "            print(f\"{i + 1}. {status} {todo['content']}\")\n"
   ]
  }
 ],
 "metadata": {
  "kernelspec": {
   "display_name": "Python 3",
   "language": "python",
   "name": "python3"
  },
  "language_info": {
   "codemirror_mode": {
    "name": "ipython",
    "version": 2
   },
   "file_extension": ".py",
   "mimetype": "text/x-python",
   "name": "python",
   "nbconvert_exporter": "python",
   "pygments_lexer": "ipython2",
   "version": "2.7.6"
  }
 },
 "nbformat": 4,
 "nbformat_minor": 5
}
