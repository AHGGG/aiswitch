{
 "cells": [
  {
   "cell_type": "code",
   "execution_count": 1,
   "id": "5be956a9",
   "metadata": {},
   "outputs": [],
   "source": [
    "import nest_asyncio\n",
    "nest_asyncio.apply()"
   ]
  },
  {
   "cell_type": "code",
   "execution_count": 2,
   "id": "2fd8d39b",
   "metadata": {},
   "outputs": [],
   "source": [
    "import asyncio\n",
    "from claude_agent_sdk import query, ClaudeAgentOptions"
   ]
  },
  {
   "cell_type": "code",
   "execution_count": 3,
   "id": "61d0f01a",
   "metadata": {},
   "outputs": [
    {
     "name": "stdout",
     "output_type": "stream",
     "text": [
      "SystemMessage(subtype='init', data={'type': 'system', 'subtype': 'init', 'cwd': '/home/ahggg/desktop/github/side-project/aiswitch', 'session_id': '98e19697-609e-48e0-a9b8-2bf93daeca02', 'tools': ['Task', 'Bash', 'Glob', 'Grep', 'ExitPlanMode', 'Read', 'Edit', 'Write', 'NotebookEdit', 'WebFetch', 'TodoWrite', 'WebSearch', 'BashOutput', 'KillShell', 'SlashCommand'], 'mcp_servers': [], 'model': 'deepseek-chat', 'permissionMode': 'acceptEdits', 'slash_commands': ['compact', 'context', 'cost', 'init', 'output-style:new', 'pr-comments', 'release-notes', 'todos', 'review', 'security-review'], 'apiKeySource': 'none', 'output_style': 'default', 'agents': ['general-purpose', 'statusline-setup', 'output-style-setup'], 'uuid': 'e0b6c162-c575-48bc-9010-ca2cd3331254'})\n",
      "AssistantMessage(content=[TextBlock(text='1+1=2')], model='deepseek-chat', parent_tool_use_id=None)\n",
      "ResultMessage(subtype='success', duration_ms=6869, duration_api_ms=10791, is_error=False, num_turns=1, session_id='98e19697-609e-48e0-a9b8-2bf93daeca02', total_cost_usd=0.031403999999999994, usage={'input_tokens': 10013, 'cache_creation_input_tokens': 0, 'cache_read_input_tokens': 0, 'output_tokens': 5, 'server_tool_use': {'web_search_requests': 0}, 'service_tier': 'standard', 'cache_creation': {'ephemeral_1h_input_tokens': 0, 'ephemeral_5m_input_tokens': 0}}, result='1+1=2')\n"
     ]
    }
   ],
   "source": [
    "async def main():\n",
    "    options = ClaudeAgentOptions(\n",
    "        system_prompt=\"You are an expert Python developer\",\n",
    "        permission_mode='acceptEdits',\n",
    "        cwd=\"/home/ahggg/desktop/github/side-project/aiswitch\"\n",
    "    )\n",
    "\n",
    "    async for message in query(\n",
    "        prompt=\"1+1=?\",\n",
    "        options=options\n",
    "    ):\n",
    "        print(message)\n",
    "\n",
    "\n",
    "asyncio.run(main())"
   ]
  },
  {
   "cell_type": "code",
   "execution_count": null,
   "id": "34972163",
   "metadata": {},
   "outputs": [],
   "source": []
  }
 ],
 "metadata": {
  "kernelspec": {
   "display_name": "aiswitch",
   "language": "python",
   "name": "python3"
  },
  "language_info": {
   "codemirror_mode": {
    "name": "ipython",
    "version": 3
   },
   "file_extension": ".py",
   "mimetype": "text/x-python",
   "name": "python",
   "nbconvert_exporter": "python",
   "pygments_lexer": "ipython3",
   "version": "3.12.11"
  }
 },
 "nbformat": 4,
 "nbformat_minor": 5
}
